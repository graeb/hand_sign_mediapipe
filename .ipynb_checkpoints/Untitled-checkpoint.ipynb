{
 "cells": [
  {
   "cell_type": "markdown",
   "id": "04adf0ae",
   "metadata": {},
   "source": [
    "Different ML models for sign detection using features dervied from hand detection using MediaPipe"
   ]
  },
  {
   "cell_type": "code",
   "execution_count": null,
   "id": "1f301d02",
   "metadata": {},
   "outputs": [],
   "source": [
    "import numpy as np\n",
    "import sklearn as sk\n",
    "import pandas as pd\n",
    "from sklearn.neighbors import KNeighborsClassifier\n",
    "\n",
    "path = r'C:\\Users\\graeb\\OneDrive\\Pulpit\\sign_csv\\test.csv'\n",
    "features = ['thumb_bend', 'index_bend', 'middle_bend', 'ring_bend', 'little_bend', 'thumb_spread', 'index_spread', 'middle_spread', 'ring_spread']\n",
    "df = pd.read_csv(path)\n",
    "df\n",
    "\n",
    "\n"
   ]
  },
  {
   "cell_type": "code",
   "execution_count": null,
   "id": "e9a75ae9",
   "metadata": {},
   "outputs": [],
   "source": [
    "feature_vector = \n",
    "labels =\n",
    "neigh = KNeighborsClassifier(n_neighbors=3)"
   ]
  }
 ],
 "metadata": {
  "kernelspec": {
   "display_name": "Python 3 (ipykernel)",
   "language": "python",
   "name": "python3"
  },
  "language_info": {
   "codemirror_mode": {
    "name": "ipython",
    "version": 3
   },
   "file_extension": ".py",
   "mimetype": "text/x-python",
   "name": "python",
   "nbconvert_exporter": "python",
   "pygments_lexer": "ipython3",
   "version": "3.10.2"
  }
 },
 "nbformat": 4,
 "nbformat_minor": 5
}
